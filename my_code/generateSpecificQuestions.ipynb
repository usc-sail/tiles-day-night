{
 "cells": [
  {
   "cell_type": "markdown",
   "id": "33ca2fd8-5773-4c98-a8cd-fce924fdba17",
   "metadata": {},
   "source": [
    "# Storing data\n",
    "- questions -- A dictionary of question templates as the keys and values as list of specific questions\n",
    "- key_words_in_study -- A dictionary of the variables used in the study. Keys are the main variables and values are the sub variables. \n",
    "    - keys :: values\n",
    "        - group_1, group_2, behavioral, physiological values are lists\n",
    "        - demographic and xxx values are dict with their values as lists (see function to convert to demographic :: values are list)\n",
    "- def reformat_key_words_in_study -- Updates the structure of the key_words_in_study and stores in updated_key_words_in_study"
   ]
  },
  {
   "cell_type": "code",
   "execution_count": 1,
   "id": "1c6f67fc-02fd-498f-8c3e-99dd26216569",
   "metadata": {},
   "outputs": [],
   "source": [
    "# previously questions\n",
    "t_test_questions = {\n",
    "                    'what are differences in primarily *group_1* nurses and primarily *group_2* nurses for *demographic* ?': [],\n",
    "                    'what are differences in primarily *group_1* nurses and primarily *group_2* nurses for *behavioral* ?': [],\n",
    "}\n",
    "\n",
    "# three_way_anova_questions = {\n",
    "#             'what are some differences between primarily *group_1* nurses and primarily *group_2* nurses on daily *physiological* with the covariate *demographic* and the covariate *demographic*?': []\n",
    "# }\n",
    "\n",
    "# model <- aov(rest ~ shift + age + gender, data = df_work)\n",
    "anova_questions = {\n",
    "    # 'what are differences in primarily *group_1* nurses and primarily *group_2* nurses on *physiological* with covariate *demographic*, *demographic*?': [],\n",
    "    'what are differences in primarily *group_1* nurses and primarily *group_2* nurses on *physiological* with covariate *Age*, *Gender* ?': []\n",
    "\n",
    "}"
   ]
  },
  {
   "cell_type": "code",
   "execution_count": 2,
   "id": "a884bb19-2c86-4925-9c5c-f7173a4bd748",
   "metadata": {},
   "outputs": [],
   "source": [
    "all_questions = []"
   ]
  },
  {
   "cell_type": "code",
   "execution_count": 3,
   "id": "74979fb0-c09c-4c25-87ef-fd215a9a8e7b",
   "metadata": {},
   "outputs": [],
   "source": [
    "t_test_questions\n",
    "all_questions.append(t_test_questions)"
   ]
  },
  {
   "cell_type": "code",
   "execution_count": 4,
   "id": "cd13c339-1878-4ef6-b542-067043bdf4bb",
   "metadata": {},
   "outputs": [],
   "source": [
    "anova_questions\n",
    "all_questions.append(anova_questions)"
   ]
  },
  {
   "cell_type": "code",
   "execution_count": 5,
   "id": "08f836f2-f584-4926-9025-2ed4711a9851",
   "metadata": {},
   "outputs": [
    {
     "data": {
      "text/plain": [
       "[{'what are differences in primarily *group_1* nurses and primarily *group_2* nurses for *demographic* ?': [],\n",
       "  'what are differences in primarily *group_1* nurses and primarily *group_2* nurses for *behavioral* ?': []},\n",
       " {'what are differences in primarily *group_1* nurses and primarily *group_2* nurses on *physiological* with covariate *Age*, *Gender* ?': []}]"
      ]
     },
     "execution_count": 5,
     "metadata": {},
     "output_type": "execute_result"
    }
   ],
   "source": [
    "all_questions"
   ]
  },
  {
   "cell_type": "code",
   "execution_count": 6,
   "id": "4f4f6275-2e1e-48ea-8ef8-2d34069e7cbb",
   "metadata": {},
   "outputs": [],
   "source": [
    "# types_of_analysis"
   ]
  },
  {
   "cell_type": "code",
   "execution_count": 7,
   "id": "a485465f-a4d6-42ac-97d1-b7e2ac07135b",
   "metadata": {},
   "outputs": [],
   "source": [
    "key_words_in_study = {\n",
    "                        'group_1': 'day-shift',\n",
    "                        'group_2': 'night-shift',\n",
    "                        'demographic':  {\n",
    "                            'Gender': ['Female', 'Male'],\n",
    "                            'Age': ['< 40 Years', '>= 40 Years'],\n",
    "                            'Educ': ['Some college or College', 'Graduate'],\n",
    "                            'native_lang': ['English', 'non-english'],\n",
    "                        },\n",
    "                        'behavioral': ['age', 'stai', 'pan_PosAffect', 'pan_NegAffect', 'swls', 'bfi_Neuroticism', 'bfi_Conscientiousness', 'bfi_Extraversion', 'bfi_Agreeableness', 'bfi_Openness', 'psqi'],\n",
    "                        'physiological': ['step count', 'heart rate', 'sleep', 'average rest-activity ratio', 'average walk activity ratio', 'average vigorous activity duration']\n",
    "    \n",
    "}"
   ]
  },
  {
   "cell_type": "code",
   "execution_count": 8,
   "id": "99a869f1-f9d0-459d-a52f-7993d312c0e2",
   "metadata": {},
   "outputs": [
    {
     "name": "stdout",
     "output_type": "stream",
     "text": [
      "group_1  ::  day-shift\n",
      "group_2  ::  night-shift\n",
      "demographic  ::  {'Gender': ['Female', 'Male'], 'Age': ['< 40 Years', '>= 40 Years'], 'Educ': ['Some college or College', 'Graduate'], 'native_lang': ['English', 'non-english']}\n",
      "behavioral  ::  ['age', 'stai', 'pan_PosAffect', 'pan_NegAffect', 'swls', 'bfi_Neuroticism', 'bfi_Conscientiousness', 'bfi_Extraversion', 'bfi_Agreeableness', 'bfi_Openness', 'psqi']\n",
      "physiological  ::  ['step count', 'heart rate', 'sleep', 'average rest-activity ratio', 'average walk activity ratio', 'average vigorous activity duration']\n"
     ]
    }
   ],
   "source": [
    "for key, value in key_words_in_study.items():\n",
    "    print(key, \" :: \", value)"
   ]
  },
  {
   "cell_type": "code",
   "execution_count": 9,
   "id": "61b78a3f-fff9-49a2-84c3-ce035a8a9721",
   "metadata": {},
   "outputs": [],
   "source": [
    "# def convert_demo_values(key_words_in_study):\n",
    "#     demo_values = list(key_words_in_study.values())[2]\n",
    "#     print(\"demo_values : \", demo_values)\n",
    "#     # demo_values = sum(demo_values, [])\n",
    "#     # print(\"demo_values: \", demo_values)\n",
    "    \n",
    "#     # for demo_value in demo_values:\n",
    "#     #     demo_var = demo_values[demo_value]\n",
    "        \n",
    "#     return demo_values[\"gender\"]"
   ]
  },
  {
   "cell_type": "code",
   "execution_count": 10,
   "id": "b6868b7c-df9d-4192-ad44-b2cb1f1d1c0c",
   "metadata": {},
   "outputs": [],
   "source": [
    "# convert_demo_values(key_words_in_study)"
   ]
  },
  {
   "cell_type": "markdown",
   "id": "026642f0-a42d-4aad-88a2-cbc27c18b2db",
   "metadata": {},
   "source": [
    "## Reformatting key words in study"
   ]
  },
  {
   "cell_type": "code",
   "execution_count": 11,
   "id": "38b3b2ed-14e5-4d5a-8e39-d4603c4168e6",
   "metadata": {},
   "outputs": [],
   "source": [
    "def reformat_key_words_in_study(key_words_in_study):\n",
    "   \n",
    "    '''Convert the values of that specific key in key words in study\n",
    "    \n",
    "    Argument:\n",
    "    key_words_in_study -- dict\n",
    "        keys -- str\n",
    "        values -- \n",
    "            str : group_1, group_2 (remain)\n",
    "            dict : gender, age, highest degree, native language (convert to list)\n",
    "            list : behavioral, physiological (remain)\n",
    "    Functions:\n",
    "    convert_demo_vars\n",
    "    '''\n",
    "    demo_vars = []\n",
    "    updated_key_words_in_study = key_words_in_study.copy()\n",
    "    replace_with_vars = list(updated_key_words_in_study.values()) \n",
    "    demo_keys = list(replace_with_vars[2].keys())\n",
    "    # demo_keys = sum(demo_keys, [])\n",
    "    demo_vals = list(replace_with_vars[2].values())\n",
    "    demo_vals = sum(demo_vals, [])\n",
    "    demo_vars.append(demo_keys)\n",
    "    demo_vars.append(demo_vals)\n",
    "    print(\"demo_vars : \", demo_vars)\n",
    "    \n",
    "    # if demo_val\n",
    "\n",
    "    updated_key_words_in_study[\"demographic\"] = sum(demo_vars, [])\n",
    "        \n",
    "    return updated_key_words_in_study"
   ]
  },
  {
   "cell_type": "code",
   "execution_count": 12,
   "id": "56dfd53a-333d-436a-b090-7e8acdbc4cfc",
   "metadata": {},
   "outputs": [
    {
     "name": "stdout",
     "output_type": "stream",
     "text": [
      "demo_vars :  [['Gender', 'Age', 'Educ', 'native_lang'], ['Female', 'Male', '< 40 Years', '>= 40 Years', 'Some college or College', 'Graduate', 'English', 'non-english']]\n"
     ]
    },
    {
     "data": {
      "text/plain": [
       "{'group_1': 'day-shift',\n",
       " 'group_2': 'night-shift',\n",
       " 'demographic': ['Gender',\n",
       "  'Age',\n",
       "  'Educ',\n",
       "  'native_lang',\n",
       "  'Female',\n",
       "  'Male',\n",
       "  '< 40 Years',\n",
       "  '>= 40 Years',\n",
       "  'Some college or College',\n",
       "  'Graduate',\n",
       "  'English',\n",
       "  'non-english'],\n",
       " 'behavioral': ['age',\n",
       "  'stai',\n",
       "  'pan_PosAffect',\n",
       "  'pan_NegAffect',\n",
       "  'swls',\n",
       "  'bfi_Neuroticism',\n",
       "  'bfi_Conscientiousness',\n",
       "  'bfi_Extraversion',\n",
       "  'bfi_Agreeableness',\n",
       "  'bfi_Openness',\n",
       "  'psqi'],\n",
       " 'physiological': ['step count',\n",
       "  'heart rate',\n",
       "  'sleep',\n",
       "  'average rest-activity ratio',\n",
       "  'average walk activity ratio',\n",
       "  'average vigorous activity duration']}"
      ]
     },
     "execution_count": 12,
     "metadata": {},
     "output_type": "execute_result"
    }
   ],
   "source": [
    "updated_key_words_in_study = reformat_key_words_in_study(key_words_in_study)\n",
    "updated_key_words_in_study"
   ]
  },
  {
   "cell_type": "code",
   "execution_count": 13,
   "id": "faa34c54-2158-442d-9bfe-1ca80f69380f",
   "metadata": {},
   "outputs": [
    {
     "data": {
      "text/plain": [
       "{'group_1': 'day-shift',\n",
       " 'group_2': 'night-shift',\n",
       " 'demographic': {'Gender': ['Female', 'Male'],\n",
       "  'Age': ['< 40 Years', '>= 40 Years'],\n",
       "  'Educ': ['Some college or College', 'Graduate'],\n",
       "  'native_lang': ['English', 'non-english']},\n",
       " 'behavioral': ['age',\n",
       "  'stai',\n",
       "  'pan_PosAffect',\n",
       "  'pan_NegAffect',\n",
       "  'swls',\n",
       "  'bfi_Neuroticism',\n",
       "  'bfi_Conscientiousness',\n",
       "  'bfi_Extraversion',\n",
       "  'bfi_Agreeableness',\n",
       "  'bfi_Openness',\n",
       "  'psqi'],\n",
       " 'physiological': ['step count',\n",
       "  'heart rate',\n",
       "  'sleep',\n",
       "  'average rest-activity ratio',\n",
       "  'average walk activity ratio',\n",
       "  'average vigorous activity duration']}"
      ]
     },
     "execution_count": 13,
     "metadata": {},
     "output_type": "execute_result"
    }
   ],
   "source": [
    "key_words_in_study"
   ]
  },
  {
   "cell_type": "code",
   "execution_count": 14,
   "id": "5bb095fb-ed88-4680-a7aa-c407ac23c5e2",
   "metadata": {},
   "outputs": [],
   "source": [
    "def convert_question_templates(all_questions):\n",
    "    '''Convert question templates to their own individual lists\n",
    "    \n",
    "    Arguments:\n",
    "    t_test_questions -- dict\n",
    "    \n",
    "    Return:\n",
    "    2D list with each index being a single question\n",
    "    '''\n",
    "    specific_questions = []\n",
    "    # print(all_questions)\n",
    "    for specific in range(len(all_questions)):\n",
    "         # Convert from dict --> list\n",
    "        question_templates = list(all_questions[specific].keys())\n",
    "        # print(type(question_templates), question_templates)\n",
    "\n",
    "        \n",
    "\n",
    "        # Get specific question template\n",
    "        for question_template in range(len(question_templates)):\n",
    "    \n",
    "            specific_question_templates = []\n",
    "\n",
    "            template_of_question = question_templates[question_template]\n",
    "            # print(type(template_of_question), template_of_question)\n",
    "            specific_question_templates.append(template_of_question)\n",
    "            # print(type(specific_question_templates), specific_question_templates)\n",
    "            specific_questions.append(specific_question_templates)\n",
    "            # print(type(specific_questions), specific_questions)\n",
    "    return specific_questions"
   ]
  },
  {
   "cell_type": "code",
   "execution_count": 15,
   "id": "d5d1e4e2-b16b-490e-8442-884017d55dec",
   "metadata": {},
   "outputs": [
    {
     "data": {
      "text/plain": [
       "[['what are differences in primarily *group_1* nurses and primarily *group_2* nurses for *demographic* ?'],\n",
       " ['what are differences in primarily *group_1* nurses and primarily *group_2* nurses for *behavioral* ?'],\n",
       " ['what are differences in primarily *group_1* nurses and primarily *group_2* nurses on *physiological* with covariate *Age*, *Gender* ?']]"
      ]
     },
     "execution_count": 15,
     "metadata": {},
     "output_type": "execute_result"
    }
   ],
   "source": [
    "converted_question_templates = convert_question_templates(all_questions)\n",
    "converted_question_templates"
   ]
  },
  {
   "cell_type": "code",
   "execution_count": 16,
   "id": "d3c773a4-744c-4b69-a49f-09c01d21a227",
   "metadata": {},
   "outputs": [],
   "source": [
    "# converted_question_templates = sum(converted_question_templates, [])"
   ]
  },
  {
   "cell_type": "code",
   "execution_count": 17,
   "id": "4ace2cad-3f08-43db-b834-0eb65a36b38c",
   "metadata": {},
   "outputs": [],
   "source": [
    "# converted_question_templates"
   ]
  },
  {
   "cell_type": "code",
   "execution_count": 18,
   "id": "91380a24-ddcd-47e0-8187-0100307f39df",
   "metadata": {},
   "outputs": [],
   "source": [
    "# converted_question_templates[0]"
   ]
  },
  {
   "cell_type": "code",
   "execution_count": 19,
   "id": "1d04edc9-77f3-4098-b7df-dafdaf1ee200",
   "metadata": {},
   "outputs": [],
   "source": [
    "def generate_specific_questions(updated_key_words_in_study):\n",
    "    '''Cycle through each question template and return the specific questions\n",
    "    \n",
    "    Arguments:\n",
    "    converted_question_templates -- 2D list of question templates\n",
    "    updated_key_words_in_study -- dict\n",
    "    \n",
    "    Functions:\n",
    "    convert_question_templates -- dict --> list\n",
    "    '''\n",
    "    \n",
    "    updated_key_words_in_study_keys = list(updated_key_words_in_study.keys())\n",
    "    updated_key_words_in_study_values = list(updated_key_words_in_study.values())\n",
    "    question_templates = convert_question_templates(all_questions)\n",
    "    # print(question_templates)\n",
    "    # print(type(updated_key_words_in_study), updated_key_words_in_study, \"\\n\\n\",\n",
    "    #       type(updated_key_words_in_study_keys), updated_key_words_in_study_keys, \"\\n\\n\",\n",
    "    #       type(updated_key_words_in_study_values), updated_key_words_in_study_values, \"\\n\\n\",\n",
    "    #       type(converted_question_templates), converted_question_templates)\n",
    "\n",
    "    specific_questions = []\n",
    "    \n",
    "    # Get specific question template\n",
    "    for question_template in range(len(question_templates)):\n",
    "        \n",
    "        # Reset every new specific_question_template\n",
    "        \n",
    "        specific_question_template = ''.join(question_templates[question_template])\n",
    "        # print(\"...\", type(specific_question_template), specific_question_template)   \n",
    "        \n",
    "        \n",
    "        # Replace matching variables \n",
    "        for index_of_key, key in enumerate(updated_key_words_in_study_keys): \n",
    "            # print((index_of_key, key))\n",
    "            \n",
    "            matching_study_variables_start_index = specific_question_template.find(key)\n",
    "            # print(matching_study_variables_start_index)\n",
    "            \n",
    "            \n",
    "            if matching_study_variables_start_index != -1:\n",
    "                specific_question_templates = []\n",
    "                # key_word_is_in_sqt = True\n",
    "                # print((index_of_key, key))\n",
    "                # print(key_word_is_in_sqt)\n",
    "                value_in_key = updated_key_words_in_study[key]\n",
    "                # print(\"\\n\",(index_of_key, key), \"is of type\", type(value_in_key))\n",
    "                key_words_values_is_type_list = isinstance(updated_key_words_in_study[key], list) \n",
    "                \n",
    "                # print(\"...\", type(specific_question_template), specific_question_template)\n",
    "                if key_words_values_is_type_list == True:\n",
    "                    for value in value_in_key:\n",
    "                        # value = \n",
    "                        # print(value, value_in_key)\n",
    "                        replace = specific_question_template.replace(key, value)\n",
    "                        # print(\"\\n>>\", replace)\n",
    "                        key = value\n",
    "                        # print(\"key: \", key)\n",
    "                        specific_question_template = replace\n",
    "                        specific_question_templates.append(specific_question_template)\n",
    "                        # print(\"specific_question_templates : \", specific_question_templates)\n",
    "                        \n",
    "                else:\n",
    "                    replace = specific_question_template.replace(key, value_in_key)\n",
    "                    # print(\"\\n>>\", replace)\n",
    "                    # key = value\n",
    "                    # print(\"key: \", key)\n",
    "                    specific_question_template = replace\n",
    "                    specific_question_templates.append(specific_question_template)\n",
    "                    \n",
    "                    # print(\"specific_question_templates : \", specific_question_templates)\n",
    "            else:\n",
    "                # key_word_is_in_sqt = False\n",
    "                # print(key_word_is_in_sqt)\n",
    "                continue\n",
    "        specific_questions.append(specific_question_templates)\n",
    "            \n",
    "        # print(specific_questions)\n",
    "    return specific_questions"
   ]
  },
  {
   "cell_type": "code",
   "execution_count": 20,
   "id": "9e1ff1ef-451f-4ebf-9381-0f1e128582d0",
   "metadata": {},
   "outputs": [
    {
     "data": {
      "text/plain": [
       "[['what are differences in primarily *day-shift* nurses and primarily *night-shift* nurses for *Gender* ?',\n",
       "  'what are differences in primarily *day-shift* nurses and primarily *night-shift* nurses for *Age* ?',\n",
       "  'what are differences in primarily *day-shift* nurses and primarily *night-shift* nurses for *Educ* ?',\n",
       "  'what are differences in primarily *day-shift* nurses and primarily *night-shift* nurses for *native_lang* ?',\n",
       "  'what are differences in primarily *day-shift* nurses and primarily *night-shift* nurses for *Female* ?',\n",
       "  'what are differences in primarily *day-shift* nurses and primarily *night-shift* nurses for *Male* ?',\n",
       "  'what are differences in primarily *day-shift* nurses and primarily *night-shift* nurses for *< 40 Years* ?',\n",
       "  'what are differences in primarily *day-shift* nurses and primarily *night-shift* nurses for *>= 40 Years* ?',\n",
       "  'what are differences in primarily *day-shift* nurses and primarily *night-shift* nurses for *Some college or College* ?',\n",
       "  'what are differences in primarily *day-shift* nurses and primarily *night-shift* nurses for *Graduate* ?',\n",
       "  'what are differences in primarily *day-shift* nurses and primarily *night-shift* nurses for *English* ?',\n",
       "  'what are differences in primarily *day-shift* nurses and primarily *night-shift* nurses for *non-english* ?'],\n",
       " ['what are differences in primarily *day-shift* nurses and primarily *night-shift* nurses for *age* ?',\n",
       "  'what are differences in primarily *day-shift* nurses and primarily *night-shift* nurses for *stai* ?',\n",
       "  'what are differences in primarily *day-shift* nurses and primarily *night-shift* nurses for *pan_PosAffect* ?',\n",
       "  'what are differences in primarily *day-shift* nurses and primarily *night-shift* nurses for *pan_NegAffect* ?',\n",
       "  'what are differences in primarily *day-shift* nurses and primarily *night-shift* nurses for *swls* ?',\n",
       "  'what are differences in primarily *day-shift* nurses and primarily *night-shift* nurses for *bfi_Neuroticism* ?',\n",
       "  'what are differences in primarily *day-shift* nurses and primarily *night-shift* nurses for *bfi_Conscientiousness* ?',\n",
       "  'what are differences in primarily *day-shift* nurses and primarily *night-shift* nurses for *bfi_Extraversion* ?',\n",
       "  'what are differences in primarily *day-shift* nurses and primarily *night-shift* nurses for *bfi_Agreeableness* ?',\n",
       "  'what are differences in primarily *day-shift* nurses and primarily *night-shift* nurses for *bfi_Openness* ?',\n",
       "  'what are differences in primarily *day-shift* nurses and primarily *night-shift* nurses for *psqi* ?'],\n",
       " ['what are differences in primarily *day-shift* nurses and primarily *night-shift* nurses on *step count* with covariate *Age*, *Gender* ?',\n",
       "  'what are differences in primarily *day-shift* nurses and primarily *night-shift* nurses on *heart rate* with covariate *Age*, *Gender* ?',\n",
       "  'what are differences in primarily *day-shift* nurses and primarily *night-shift* nurses on *sleep* with covariate *Age*, *Gender* ?',\n",
       "  'what are differences in primarily *day-shift* nurses and primarily *night-shift* nurses on *average rest-activity ratio* with covariate *Age*, *Gender* ?',\n",
       "  'what are differences in primarily *day-shift* nurses and primarily *night-shift* nurses on *average walk activity ratio* with covariate *Age*, *Gender* ?',\n",
       "  'what are differences in primarily *day-shift* nurses and primarily *night-shift* nurses on *average vigorous activity duration* with covariate *Age*, *Gender* ?']]"
      ]
     },
     "execution_count": 20,
     "metadata": {},
     "output_type": "execute_result"
    }
   ],
   "source": [
    "specific_questions = generate_specific_questions(updated_key_words_in_study)\n",
    "specific_questions"
   ]
  },
  {
   "cell_type": "markdown",
   "id": "fc6dad40-1fbf-4437-92a1-591850b0b793",
   "metadata": {},
   "source": [
    "# Update original dictionary with specific questions"
   ]
  },
  {
   "cell_type": "code",
   "execution_count": 21,
   "id": "3ecda57c-d3a1-4c99-a3e0-918d2d89456f",
   "metadata": {},
   "outputs": [],
   "source": [
    "def update_questions(all_questions):\n",
    "    '''\n",
    "    Arguments:\n",
    "    questions -- dict\n",
    "    \n",
    "    '''\n",
    "    # specific_question = sum(specific_questions, [])\n",
    "    # print(\"!!\", specific_question)\n",
    "    # question_keys = list(t_test_questions.keys())\n",
    "    # print(question_keys)\n",
    "    idx = 0\n",
    "    for specific in range(len(all_questions)):\n",
    "        #  # Convert from dict --> list\n",
    "        q = all_questions[specific]\n",
    "        # print(\"\\nq :\", q)\n",
    "        question_keys = list(all_questions[specific].keys())\n",
    "        # print(question_keys)\n",
    "        # specific_question_key = list(question_keys)\n",
    "        # print(type(specific_question_key), specific, specific_question_key)\n",
    "\n",
    "        \n",
    "\n",
    "        # specific_questions = generate_specific_questions(updated_key_words_in_study)\n",
    "        # print(\"\\n@@@@\", specific_questions)\n",
    "        \n",
    "        for question_key in question_keys:\n",
    "            \n",
    "            print(\"\\n\", question_key)\n",
    "#         question_key = question_keys[idx]\n",
    "#         print(\"\\n**\", question_key)\n",
    "            q[question_key] = specific_questions[idx]\n",
    "            print(\"****\", q[question_key])\n",
    "            idx = idx + 1 \n",
    "       \n",
    "    \n",
    "    return q[question_key]"
   ]
  },
  {
   "cell_type": "code",
   "execution_count": 22,
   "id": "65695e11-d95c-4158-b8d8-1d10db08cb21",
   "metadata": {},
   "outputs": [
    {
     "name": "stdout",
     "output_type": "stream",
     "text": [
      "\n",
      " what are differences in primarily *group_1* nurses and primarily *group_2* nurses for *demographic* ?\n",
      "**** ['what are differences in primarily *day-shift* nurses and primarily *night-shift* nurses for *Gender* ?', 'what are differences in primarily *day-shift* nurses and primarily *night-shift* nurses for *Age* ?', 'what are differences in primarily *day-shift* nurses and primarily *night-shift* nurses for *Educ* ?', 'what are differences in primarily *day-shift* nurses and primarily *night-shift* nurses for *native_lang* ?', 'what are differences in primarily *day-shift* nurses and primarily *night-shift* nurses for *Female* ?', 'what are differences in primarily *day-shift* nurses and primarily *night-shift* nurses for *Male* ?', 'what are differences in primarily *day-shift* nurses and primarily *night-shift* nurses for *< 40 Years* ?', 'what are differences in primarily *day-shift* nurses and primarily *night-shift* nurses for *>= 40 Years* ?', 'what are differences in primarily *day-shift* nurses and primarily *night-shift* nurses for *Some college or College* ?', 'what are differences in primarily *day-shift* nurses and primarily *night-shift* nurses for *Graduate* ?', 'what are differences in primarily *day-shift* nurses and primarily *night-shift* nurses for *English* ?', 'what are differences in primarily *day-shift* nurses and primarily *night-shift* nurses for *non-english* ?']\n",
      "\n",
      " what are differences in primarily *group_1* nurses and primarily *group_2* nurses for *behavioral* ?\n",
      "**** ['what are differences in primarily *day-shift* nurses and primarily *night-shift* nurses for *age* ?', 'what are differences in primarily *day-shift* nurses and primarily *night-shift* nurses for *stai* ?', 'what are differences in primarily *day-shift* nurses and primarily *night-shift* nurses for *pan_PosAffect* ?', 'what are differences in primarily *day-shift* nurses and primarily *night-shift* nurses for *pan_NegAffect* ?', 'what are differences in primarily *day-shift* nurses and primarily *night-shift* nurses for *swls* ?', 'what are differences in primarily *day-shift* nurses and primarily *night-shift* nurses for *bfi_Neuroticism* ?', 'what are differences in primarily *day-shift* nurses and primarily *night-shift* nurses for *bfi_Conscientiousness* ?', 'what are differences in primarily *day-shift* nurses and primarily *night-shift* nurses for *bfi_Extraversion* ?', 'what are differences in primarily *day-shift* nurses and primarily *night-shift* nurses for *bfi_Agreeableness* ?', 'what are differences in primarily *day-shift* nurses and primarily *night-shift* nurses for *bfi_Openness* ?', 'what are differences in primarily *day-shift* nurses and primarily *night-shift* nurses for *psqi* ?']\n",
      "\n",
      " what are differences in primarily *group_1* nurses and primarily *group_2* nurses on *physiological* with covariate *Age*, *Gender* ?\n",
      "**** ['what are differences in primarily *day-shift* nurses and primarily *night-shift* nurses on *step count* with covariate *Age*, *Gender* ?', 'what are differences in primarily *day-shift* nurses and primarily *night-shift* nurses on *heart rate* with covariate *Age*, *Gender* ?', 'what are differences in primarily *day-shift* nurses and primarily *night-shift* nurses on *sleep* with covariate *Age*, *Gender* ?', 'what are differences in primarily *day-shift* nurses and primarily *night-shift* nurses on *average rest-activity ratio* with covariate *Age*, *Gender* ?', 'what are differences in primarily *day-shift* nurses and primarily *night-shift* nurses on *average walk activity ratio* with covariate *Age*, *Gender* ?', 'what are differences in primarily *day-shift* nurses and primarily *night-shift* nurses on *average vigorous activity duration* with covariate *Age*, *Gender* ?']\n"
     ]
    },
    {
     "data": {
      "text/plain": [
       "['what are differences in primarily *day-shift* nurses and primarily *night-shift* nurses on *step count* with covariate *Age*, *Gender* ?',\n",
       " 'what are differences in primarily *day-shift* nurses and primarily *night-shift* nurses on *heart rate* with covariate *Age*, *Gender* ?',\n",
       " 'what are differences in primarily *day-shift* nurses and primarily *night-shift* nurses on *sleep* with covariate *Age*, *Gender* ?',\n",
       " 'what are differences in primarily *day-shift* nurses and primarily *night-shift* nurses on *average rest-activity ratio* with covariate *Age*, *Gender* ?',\n",
       " 'what are differences in primarily *day-shift* nurses and primarily *night-shift* nurses on *average walk activity ratio* with covariate *Age*, *Gender* ?',\n",
       " 'what are differences in primarily *day-shift* nurses and primarily *night-shift* nurses on *average vigorous activity duration* with covariate *Age*, *Gender* ?']"
      ]
     },
     "execution_count": 22,
     "metadata": {},
     "output_type": "execute_result"
    }
   ],
   "source": [
    "update_questions(all_questions)"
   ]
  },
  {
   "cell_type": "code",
   "execution_count": 23,
   "id": "33edb995-cb12-485d-888a-50d5dd2b5d72",
   "metadata": {},
   "outputs": [
    {
     "data": {
      "text/plain": [
       "['what are differences in primarily *day-shift* nurses and primarily *night-shift* nurses for *Gender* ?',\n",
       " 'what are differences in primarily *day-shift* nurses and primarily *night-shift* nurses for *Age* ?',\n",
       " 'what are differences in primarily *day-shift* nurses and primarily *night-shift* nurses for *Educ* ?',\n",
       " 'what are differences in primarily *day-shift* nurses and primarily *night-shift* nurses for *native_lang* ?',\n",
       " 'what are differences in primarily *day-shift* nurses and primarily *night-shift* nurses for *Female* ?',\n",
       " 'what are differences in primarily *day-shift* nurses and primarily *night-shift* nurses for *Male* ?',\n",
       " 'what are differences in primarily *day-shift* nurses and primarily *night-shift* nurses for *< 40 Years* ?',\n",
       " 'what are differences in primarily *day-shift* nurses and primarily *night-shift* nurses for *>= 40 Years* ?',\n",
       " 'what are differences in primarily *day-shift* nurses and primarily *night-shift* nurses for *Some college or College* ?',\n",
       " 'what are differences in primarily *day-shift* nurses and primarily *night-shift* nurses for *Graduate* ?',\n",
       " 'what are differences in primarily *day-shift* nurses and primarily *night-shift* nurses for *English* ?',\n",
       " 'what are differences in primarily *day-shift* nurses and primarily *night-shift* nurses for *non-english* ?']"
      ]
     },
     "execution_count": 23,
     "metadata": {},
     "output_type": "execute_result"
    }
   ],
   "source": [
    "list(t_test_questions.values())[0]"
   ]
  },
  {
   "cell_type": "code",
   "execution_count": 24,
   "id": "28294770-f6e7-43b7-84cd-38fd405a930a",
   "metadata": {},
   "outputs": [
    {
     "data": {
      "text/plain": [
       "['what are differences in primarily *day-shift* nurses and primarily *night-shift* nurses for *age* ?',\n",
       " 'what are differences in primarily *day-shift* nurses and primarily *night-shift* nurses for *stai* ?',\n",
       " 'what are differences in primarily *day-shift* nurses and primarily *night-shift* nurses for *pan_PosAffect* ?',\n",
       " 'what are differences in primarily *day-shift* nurses and primarily *night-shift* nurses for *pan_NegAffect* ?',\n",
       " 'what are differences in primarily *day-shift* nurses and primarily *night-shift* nurses for *swls* ?',\n",
       " 'what are differences in primarily *day-shift* nurses and primarily *night-shift* nurses for *bfi_Neuroticism* ?',\n",
       " 'what are differences in primarily *day-shift* nurses and primarily *night-shift* nurses for *bfi_Conscientiousness* ?',\n",
       " 'what are differences in primarily *day-shift* nurses and primarily *night-shift* nurses for *bfi_Extraversion* ?',\n",
       " 'what are differences in primarily *day-shift* nurses and primarily *night-shift* nurses for *bfi_Agreeableness* ?',\n",
       " 'what are differences in primarily *day-shift* nurses and primarily *night-shift* nurses for *bfi_Openness* ?',\n",
       " 'what are differences in primarily *day-shift* nurses and primarily *night-shift* nurses for *psqi* ?']"
      ]
     },
     "execution_count": 24,
     "metadata": {},
     "output_type": "execute_result"
    }
   ],
   "source": [
    "list(t_test_questions.values())[1]"
   ]
  },
  {
   "cell_type": "code",
   "execution_count": 25,
   "id": "b6ddc65e-0939-443a-902f-ea3b42496ce5",
   "metadata": {},
   "outputs": [
    {
     "data": {
      "text/plain": [
       "['what are differences in primarily *day-shift* nurses and primarily *night-shift* nurses on *step count* with covariate *Age*, *Gender* ?',\n",
       " 'what are differences in primarily *day-shift* nurses and primarily *night-shift* nurses on *heart rate* with covariate *Age*, *Gender* ?',\n",
       " 'what are differences in primarily *day-shift* nurses and primarily *night-shift* nurses on *sleep* with covariate *Age*, *Gender* ?',\n",
       " 'what are differences in primarily *day-shift* nurses and primarily *night-shift* nurses on *average rest-activity ratio* with covariate *Age*, *Gender* ?',\n",
       " 'what are differences in primarily *day-shift* nurses and primarily *night-shift* nurses on *average walk activity ratio* with covariate *Age*, *Gender* ?',\n",
       " 'what are differences in primarily *day-shift* nurses and primarily *night-shift* nurses on *average vigorous activity duration* with covariate *Age*, *Gender* ?']"
      ]
     },
     "execution_count": 25,
     "metadata": {},
     "output_type": "execute_result"
    }
   ],
   "source": [
    "list(anova_questions.values())[0]"
   ]
  },
  {
   "cell_type": "code",
   "execution_count": 26,
   "id": "045871ad-a8aa-417c-9076-afa65b78dc7e",
   "metadata": {},
   "outputs": [],
   "source": [
    "# list(anova_questions.values())[1]"
   ]
  },
  {
   "cell_type": "code",
   "execution_count": null,
   "id": "9ae64d12-09a8-4a27-aa79-69877ad0e373",
   "metadata": {},
   "outputs": [],
   "source": []
  }
 ],
 "metadata": {
  "kernelspec": {
   "display_name": "Python 3",
   "language": "python",
   "name": "python3"
  },
  "language_info": {
   "codemirror_mode": {
    "name": "ipython",
    "version": 3
   },
   "file_extension": ".py",
   "mimetype": "text/x-python",
   "name": "python",
   "nbconvert_exporter": "python",
   "pygments_lexer": "ipython3",
   "version": "3.7.5"
  }
 },
 "nbformat": 4,
 "nbformat_minor": 5
}
